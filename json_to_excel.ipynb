{
 "cells": [
  {
   "cell_type": "code",
   "execution_count": 10,
   "id": "3304c88e",
   "metadata": {},
   "outputs": [],
   "source": [
    "import json\n",
    "import pandas as pd\n",
    "\n",
    "# 파일 경로\n",
    "file_path1 = 'C:/Users/Lenovo/삼성생명2/민원(콜센터) 질의응답_금융보험_상품 가입 및 해지_Training.json'  # 실제 파일명으로 변경 필요\n",
    "file_path2 = 'C:/Users/Lenovo/삼성생명2/민원(콜센터) 질의응답_금융보험_상품 가입 및 해지_Validation.json'  # 실제 파일명으로 변경 필요\n",
    "\n",
    "# 1. JSON 파일 열기\n",
    "with open(file_path1, encoding='utf-8') as f:\n",
    "    data1 = json.load(f)\n",
    "\n",
    "# 1. JSON 파일 열기\n",
    "with open(file_path2, encoding='utf-8') as f:\n",
    "    data2 = json.load(f)\n",
    "\n",
    "# 2. 리스트 형태일 경우 바로 DataFrame 변환 가능\n",
    "df1 = pd.json_normalize(data1)\n",
    "df2 = pd.json_normalize(data2)"
   ]
  },
  {
   "cell_type": "code",
   "execution_count": 11,
   "id": "d2e70773",
   "metadata": {},
   "outputs": [],
   "source": [
    "df1.to_excel('민원(콜센터) 질의응답_금융보험_상품 가입 및 해지_Training.xlsx', index=False)  # 엑셀 파일로 저장\n",
    "df2.to_excel('민원(콜센터) 질의응답_금융보험_상품 가입 및 해지_Validation.xlsx', index=False)  # 엑셀 파일로 저장"
   ]
  },
  {
   "cell_type": "code",
   "execution_count": 5,
   "id": "10781e55",
   "metadata": {},
   "outputs": [
    {
     "name": "stdout",
     "output_type": "stream",
     "text": [
      "<class 'pandas.core.frame.DataFrame'>\n",
      "RangeIndex: 87265 entries, 0 to 87264\n",
      "Data columns (total 15 columns):\n",
      " #   Column     Non-Null Count  Dtype \n",
      "---  ------     --------------  ----- \n",
      " 0   도메인        87265 non-null  object\n",
      " 1   카테고리       87265 non-null  object\n",
      " 2   대화셋일련번호    87265 non-null  object\n",
      " 3   화자         87265 non-null  object\n",
      " 4   문장번호       87265 non-null  object\n",
      " 5   고객의도       87265 non-null  object\n",
      " 6   상담사의도      87265 non-null  object\n",
      " 7   QA         87265 non-null  object\n",
      " 8   고객질문(요청)   87265 non-null  object\n",
      " 9   상담사질문(요청)  87265 non-null  object\n",
      " 10  고객답변       87265 non-null  object\n",
      " 11  상담사답변      87265 non-null  object\n",
      " 12  개체명        87265 non-null  object\n",
      " 13  용어사전       87265 non-null  object\n",
      " 14  지식베이스      87265 non-null  object\n",
      "dtypes: object(15)\n",
      "memory usage: 10.0+ MB\n"
     ]
    }
   ],
   "source": [
    "df.info()"
   ]
  },
  {
   "cell_type": "code",
   "execution_count": 7,
   "id": "35eb9816",
   "metadata": {},
   "outputs": [
    {
     "data": {
      "text/plain": [
       "87265"
      ]
     },
     "execution_count": 7,
     "metadata": {},
     "output_type": "execute_result"
    }
   ],
   "source": [
    "len(df)"
   ]
  },
  {
   "cell_type": "code",
   "execution_count": null,
   "id": "4dc45db1",
   "metadata": {},
   "outputs": [],
   "source": []
  }
 ],
 "metadata": {
  "kernelspec": {
   "display_name": "base",
   "language": "python",
   "name": "python3"
  },
  "language_info": {
   "codemirror_mode": {
    "name": "ipython",
    "version": 3
   },
   "file_extension": ".py",
   "mimetype": "text/x-python",
   "name": "python",
   "nbconvert_exporter": "python",
   "pygments_lexer": "ipython3",
   "version": "3.12.7"
  }
 },
 "nbformat": 4,
 "nbformat_minor": 5
}
